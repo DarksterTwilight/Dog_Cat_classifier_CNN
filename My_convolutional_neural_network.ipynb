{
  "nbformat": 4,
  "nbformat_minor": 0,
  "metadata": {
    "colab": {
      "name": "My_convolutional_neural_network.ipynb",
      "provenance": [],
      "collapsed_sections": [],
      "include_colab_link": true
    },
    "kernelspec": {
      "name": "python3",
      "display_name": "Python 3"
    }
  },
  "cells": [
    {
      "cell_type": "markdown",
      "metadata": {
        "id": "view-in-github",
        "colab_type": "text"
      },
      "source": [
        "<a href=\"https://colab.research.google.com/github/DarksterTwilight/Dog_Cat_classifier_CNN/blob/main/My_convolutional_neural_network.ipynb\" target=\"_parent\"><img src=\"https://colab.research.google.com/assets/colab-badge.svg\" alt=\"Open In Colab\"/></a>"
      ]
    },
    {
      "cell_type": "markdown",
      "metadata": {
        "id": "3DR-eO17geWu"
      },
      "source": [
        "# Convolutional Neural Network"
      ]
    },
    {
      "cell_type": "markdown",
      "metadata": {
        "id": "EMefrVPCg-60"
      },
      "source": [
        "### Importing the libraries"
      ]
    },
    {
      "cell_type": "code",
      "metadata": {
        "id": "sCV30xyVhFbE"
      },
      "source": [
        "import tensorflow as tf\n",
        "from keras.preprocessing.image import ImageDataGenerator"
      ],
      "execution_count": null,
      "outputs": []
    },
    {
      "cell_type": "code",
      "metadata": {
        "id": "FIleuCAjoFD8",
        "colab": {
          "base_uri": "https://localhost:8080/",
          "height": 35
        },
        "outputId": "49c66940-9f73-4500-a4cd-3d06483894ca"
      },
      "source": [
        "tf.__version__"
      ],
      "execution_count": null,
      "outputs": [
        {
          "output_type": "execute_result",
          "data": {
            "application/vnd.google.colaboratory.intrinsic+json": {
              "type": "string"
            },
            "text/plain": [
              "'2.6.0'"
            ]
          },
          "metadata": {},
          "execution_count": 3
        }
      ]
    },
    {
      "cell_type": "markdown",
      "metadata": {
        "id": "oxQxCBWyoGPE"
      },
      "source": [
        "## Part 1 - Data Preprocessing"
      ]
    },
    {
      "cell_type": "markdown",
      "metadata": {
        "id": "MvE-heJNo3GG"
      },
      "source": [
        "### Preprocessing the Training set"
      ]
    },
    {
      "cell_type": "code",
      "metadata": {
        "colab": {
          "base_uri": "https://localhost:8080/"
        },
        "id": "PMGuG_TVs4df",
        "outputId": "99d89c67-abec-4a3e-d304-147c0d7563d3"
      },
      "source": [
        "from google.colab import drive\n",
        "drive.mount('/content/drive')"
      ],
      "execution_count": null,
      "outputs": [
        {
          "output_type": "stream",
          "name": "stdout",
          "text": [
            "Mounted at /content/drive\n"
          ]
        }
      ]
    },
    {
      "cell_type": "code",
      "metadata": {
        "id": "0koUcJMJpEBD",
        "colab": {
          "base_uri": "https://localhost:8080/"
        },
        "outputId": "0e0b3f1f-1082-47a9-b3a3-14828b8993fd"
      },
      "source": [
        "train_datagen = ImageDataGenerator(rescale = 1./255,  #feature scaling by dividing by 255 as pixel takes value bw 0 - 255\n",
        "                                   shear_range = 0.2,  #\n",
        "                                   zoom_range = 0.2,   #\n",
        "                                   horizontal_flip = True) #\n",
        "training_set = train_datagen.flow_from_directory('/content/drive/MyDrive/Colab Notebooks/dataset/training_set',\n",
        "                                                 target_size = (64, 64), # size of crop img..\n",
        "                                                 batch_size = 32,\n",
        "                                                 class_mode = 'binary')"
      ],
      "execution_count": null,
      "outputs": [
        {
          "output_type": "stream",
          "name": "stdout",
          "text": [
            "Found 8000 images belonging to 2 classes.\n"
          ]
        }
      ]
    },
    {
      "cell_type": "markdown",
      "metadata": {
        "id": "mrCMmGw9pHys"
      },
      "source": [
        "### Preprocessing the Test set"
      ]
    },
    {
      "cell_type": "code",
      "metadata": {
        "colab": {
          "base_uri": "https://localhost:8080/"
        },
        "id": "yREXwrtZD90W",
        "outputId": "a8f36880-5a44-4861-9bf8-0fbc78f7272a"
      },
      "source": [
        "test_datagen = ImageDataGenerator(rescale=1./255)\n",
        "validation_generator = test_datagen.flow_from_directory('/content/drive/MyDrive/Colab Notebooks/dataset/test_set',\n",
        "                                            target_size = (64, 64), # size of crop img..\n",
        "                                            batch_size = 32,\n",
        "                                            class_mode = 'binary')"
      ],
      "execution_count": null,
      "outputs": [
        {
          "output_type": "stream",
          "name": "stdout",
          "text": [
            "Found 2000 images belonging to 2 classes.\n"
          ]
        }
      ]
    },
    {
      "cell_type": "markdown",
      "metadata": {
        "id": "af8O4l90gk7B"
      },
      "source": [
        "## Part 2 - Building the CNN"
      ]
    },
    {
      "cell_type": "markdown",
      "metadata": {
        "id": "ces1gXY2lmoX"
      },
      "source": [
        "### Initialising the CNN"
      ]
    },
    {
      "cell_type": "code",
      "metadata": {
        "id": "ZOeL0TkjFnnn"
      },
      "source": [
        "cnn = tf.keras.models.Sequential()"
      ],
      "execution_count": null,
      "outputs": []
    },
    {
      "cell_type": "markdown",
      "metadata": {
        "id": "u5YJj_XMl5LF"
      },
      "source": [
        "### Step 1 - Convolution"
      ]
    },
    {
      "cell_type": "code",
      "metadata": {
        "id": "pt3la8FaIUsO"
      },
      "source": [
        "cnn.add(tf.keras.layers.Conv2D(filters=32, kernel_size=3, activation='relu' , input_shape=[64, 64, 3]))"
      ],
      "execution_count": null,
      "outputs": []
    },
    {
      "cell_type": "markdown",
      "metadata": {
        "id": "tf87FpvxmNOJ"
      },
      "source": [
        "### Step 2 - Pooling"
      ]
    },
    {
      "cell_type": "code",
      "metadata": {
        "id": "kZok9FNfn0Dz"
      },
      "source": [
        "cnn.add(tf.keras.layers.MaxPool2D(pool_size= 2, strides= 2))"
      ],
      "execution_count": null,
      "outputs": []
    },
    {
      "cell_type": "markdown",
      "metadata": {
        "id": "xaTOgD8rm4mU"
      },
      "source": [
        "### Adding a second convolutional layer"
      ]
    },
    {
      "cell_type": "code",
      "metadata": {
        "id": "LI9vgtlWGkNh"
      },
      "source": [
        "cnn.add(tf.keras.layers.Conv2D(filters=32, kernel_size=3, activation='relu'))\n",
        "cnn.add(tf.keras.layers.MaxPool2D(pool_size= 2, strides= 2))"
      ],
      "execution_count": null,
      "outputs": []
    },
    {
      "cell_type": "markdown",
      "metadata": {
        "id": "tmiEuvTunKfk"
      },
      "source": [
        "### Step 3 - Flattening"
      ]
    },
    {
      "cell_type": "code",
      "metadata": {
        "id": "ecS-z5RZG12m"
      },
      "source": [
        "cnn.add(tf.keras.layers.Flatten())"
      ],
      "execution_count": null,
      "outputs": []
    },
    {
      "cell_type": "markdown",
      "metadata": {
        "id": "dAoSECOm203v"
      },
      "source": [
        "### Step 4 - Full Connection"
      ]
    },
    {
      "cell_type": "code",
      "metadata": {
        "id": "JZbdm7R7HIqd"
      },
      "source": [
        "cnn.add(tf.keras.layers.Dense(units= 128, activation='relu'))"
      ],
      "execution_count": null,
      "outputs": []
    },
    {
      "cell_type": "markdown",
      "metadata": {
        "id": "yTldFvbX28Na"
      },
      "source": [
        "### Step 5 - Output Layer"
      ]
    },
    {
      "cell_type": "code",
      "metadata": {
        "id": "l1GPOv27HqRL"
      },
      "source": [
        "cnn.add(tf.keras.layers.Dense(units= 1, activation='sigmoid')) # softmax for multi-class classification"
      ],
      "execution_count": null,
      "outputs": []
    },
    {
      "cell_type": "markdown",
      "metadata": {
        "id": "D6XkI90snSDl"
      },
      "source": [
        "## Part 3 - Training the CNN"
      ]
    },
    {
      "cell_type": "markdown",
      "metadata": {
        "id": "vfrFQACEnc6i"
      },
      "source": [
        "### Compiling the CNN"
      ]
    },
    {
      "cell_type": "code",
      "metadata": {
        "id": "7MjKMjIbIQQZ"
      },
      "source": [
        "cnn.compile(optimizer='adam', loss='binary_crossentropy',  metrics= ['accuracy'])"
      ],
      "execution_count": null,
      "outputs": []
    },
    {
      "cell_type": "markdown",
      "metadata": {
        "id": "ehS-v3MIpX2h"
      },
      "source": [
        "### Training the CNN on the Training set and evaluating it on the Test set"
      ]
    },
    {
      "cell_type": "code",
      "metadata": {
        "colab": {
          "base_uri": "https://localhost:8080/"
        },
        "id": "VCvsnFy7IRMG",
        "outputId": "1d0d0f62-efc9-42e3-b91b-f912c47c7408"
      },
      "source": [
        "cnn.fit(x = training_set, validation_data= training_set, epochs= 25)"
      ],
      "execution_count": null,
      "outputs": [
        {
          "output_type": "stream",
          "name": "stdout",
          "text": [
            "Epoch 1/25\n",
            "250/250 [==============================] - 1764s 7s/step - loss: 0.6785 - accuracy: 0.5646 - val_loss: 0.6267 - val_accuracy: 0.6674\n",
            "Epoch 2/25\n",
            "250/250 [==============================] - 116s 464ms/step - loss: 0.6111 - accuracy: 0.6672 - val_loss: 0.5656 - val_accuracy: 0.7160\n",
            "Epoch 3/25\n",
            "250/250 [==============================] - 116s 465ms/step - loss: 0.5679 - accuracy: 0.7014 - val_loss: 0.5261 - val_accuracy: 0.7400\n",
            "Epoch 4/25\n",
            "250/250 [==============================] - 116s 464ms/step - loss: 0.5287 - accuracy: 0.7330 - val_loss: 0.5307 - val_accuracy: 0.7369\n",
            "Epoch 5/25\n",
            "250/250 [==============================] - 119s 478ms/step - loss: 0.5109 - accuracy: 0.7459 - val_loss: 0.5044 - val_accuracy: 0.7424\n",
            "Epoch 6/25\n",
            "250/250 [==============================] - 117s 469ms/step - loss: 0.4920 - accuracy: 0.7619 - val_loss: 0.4675 - val_accuracy: 0.7799\n",
            "Epoch 7/25\n",
            "250/250 [==============================] - 118s 473ms/step - loss: 0.4672 - accuracy: 0.7795 - val_loss: 0.4451 - val_accuracy: 0.7928\n",
            "Epoch 8/25\n",
            "250/250 [==============================] - 118s 471ms/step - loss: 0.4529 - accuracy: 0.7832 - val_loss: 0.4863 - val_accuracy: 0.7596\n",
            "Epoch 9/25\n",
            "250/250 [==============================] - 119s 477ms/step - loss: 0.4470 - accuracy: 0.7857 - val_loss: 0.4145 - val_accuracy: 0.8076\n",
            "Epoch 10/25\n",
            "250/250 [==============================] - 117s 468ms/step - loss: 0.4277 - accuracy: 0.8064 - val_loss: 0.3909 - val_accuracy: 0.8180\n",
            "Epoch 11/25\n",
            "250/250 [==============================] - 117s 470ms/step - loss: 0.4161 - accuracy: 0.8041 - val_loss: 0.4256 - val_accuracy: 0.8087\n",
            "Epoch 12/25\n",
            "250/250 [==============================] - 118s 474ms/step - loss: 0.4084 - accuracy: 0.8136 - val_loss: 0.4286 - val_accuracy: 0.7968\n",
            "Epoch 13/25\n",
            "250/250 [==============================] - 118s 471ms/step - loss: 0.3913 - accuracy: 0.8211 - val_loss: 0.3669 - val_accuracy: 0.8365\n",
            "Epoch 14/25\n",
            "250/250 [==============================] - 117s 469ms/step - loss: 0.3835 - accuracy: 0.8215 - val_loss: 0.3674 - val_accuracy: 0.8361\n",
            "Epoch 15/25\n",
            "250/250 [==============================] - 117s 469ms/step - loss: 0.3687 - accuracy: 0.8351 - val_loss: 0.3820 - val_accuracy: 0.8267\n",
            "Epoch 16/25\n",
            "250/250 [==============================] - 118s 473ms/step - loss: 0.3586 - accuracy: 0.8389 - val_loss: 0.3312 - val_accuracy: 0.8510\n",
            "Epoch 17/25\n",
            "250/250 [==============================] - 117s 470ms/step - loss: 0.3444 - accuracy: 0.8470 - val_loss: 0.3441 - val_accuracy: 0.8524\n",
            "Epoch 18/25\n",
            "250/250 [==============================] - 117s 469ms/step - loss: 0.3440 - accuracy: 0.8432 - val_loss: 0.3179 - val_accuracy: 0.8604\n",
            "Epoch 19/25\n",
            "250/250 [==============================] - 117s 470ms/step - loss: 0.3401 - accuracy: 0.8481 - val_loss: 0.3250 - val_accuracy: 0.8569\n",
            "Epoch 20/25\n",
            "250/250 [==============================] - 118s 473ms/step - loss: 0.3273 - accuracy: 0.8539 - val_loss: 0.3156 - val_accuracy: 0.8599\n",
            "Epoch 21/25\n",
            "250/250 [==============================] - 118s 473ms/step - loss: 0.3044 - accuracy: 0.8635 - val_loss: 0.3131 - val_accuracy: 0.8634\n",
            "Epoch 22/25\n",
            "250/250 [==============================] - 118s 471ms/step - loss: 0.3000 - accuracy: 0.8717 - val_loss: 0.3083 - val_accuracy: 0.8641\n",
            "Epoch 23/25\n",
            "250/250 [==============================] - 118s 474ms/step - loss: 0.2862 - accuracy: 0.8777 - val_loss: 0.3038 - val_accuracy: 0.8683\n",
            "Epoch 24/25\n",
            "250/250 [==============================] - 117s 470ms/step - loss: 0.2784 - accuracy: 0.8808 - val_loss: 0.2594 - val_accuracy: 0.8898\n",
            "Epoch 25/25\n",
            "250/250 [==============================] - 118s 473ms/step - loss: 0.2691 - accuracy: 0.8866 - val_loss: 0.2847 - val_accuracy: 0.8761\n"
          ]
        },
        {
          "output_type": "execute_result",
          "data": {
            "text/plain": [
              "<keras.callbacks.History at 0x7fb695ce1e90>"
            ]
          },
          "metadata": {},
          "execution_count": 15
        }
      ]
    },
    {
      "cell_type": "markdown",
      "metadata": {
        "id": "U3PZasO0006Z"
      },
      "source": [
        "## Part 4 - Making a single prediction"
      ]
    },
    {
      "cell_type": "code",
      "metadata": {
        "colab": {
          "base_uri": "https://localhost:8080/"
        },
        "id": "Zj3TDEMKg64b",
        "outputId": "770250cf-432a-4b0c-c3a3-74a4379834a9"
      },
      "source": [
        "print(training_set.class_indices)"
      ],
      "execution_count": null,
      "outputs": [
        {
          "output_type": "stream",
          "name": "stdout",
          "text": [
            "{'cats': 0, 'dogs': 1}\n"
          ]
        }
      ]
    },
    {
      "cell_type": "code",
      "metadata": {
        "id": "9EUv-Ko6NnHk"
      },
      "source": [
        "import numpy as np\n",
        "from keras.preprocessing import image\n",
        "test_image = image.load_img('/content/drive/MyDrive/Colab Notebooks/dataset/single_prediction/cat_or_dog_1.jpg', target_size= (64,64))\n",
        "#load img as PIL format\n",
        "# converting PIL to numpy array\n",
        "test_image = image.img_to_array(test_image)\n",
        "test_image = np.expand_dims(test_image, axis = 0)\n",
        "result = cnn.predict(test_image)\n",
        "# 1-dog\n",
        "# 0 - cat\n",
        "if result[0][0] == 1:\n",
        "  prediction = 'dog'\n",
        "else:\n",
        "  prediction = 'cat'\n"
      ],
      "execution_count": null,
      "outputs": []
    },
    {
      "cell_type": "code",
      "metadata": {
        "colab": {
          "base_uri": "https://localhost:8080/"
        },
        "id": "xhCOBLVIkcJP",
        "outputId": "e51bf979-6061-4b53-d58a-aed50aa0fd88"
      },
      "source": [
        "print(result)"
      ],
      "execution_count": null,
      "outputs": [
        {
          "output_type": "stream",
          "name": "stdout",
          "text": [
            "[[1.]]\n"
          ]
        }
      ]
    },
    {
      "cell_type": "code",
      "metadata": {
        "colab": {
          "base_uri": "https://localhost:8080/"
        },
        "id": "p3uJKcQNiwGL",
        "outputId": "acf41d9a-b6bb-4786-b9e1-1056286c2284"
      },
      "source": [
        "print(prediction)"
      ],
      "execution_count": null,
      "outputs": [
        {
          "output_type": "stream",
          "name": "stdout",
          "text": [
            "dog\n"
          ]
        }
      ]
    },
    {
      "cell_type": "markdown",
      "metadata": {
        "id": "qxju2e7Vzt1v"
      },
      "source": [
        "Converting model"
      ]
    },
    {
      "cell_type": "code",
      "metadata": {
        "id": "NPblUaajzxmp"
      },
      "source": [
        "import sys\n",
        "import os\n",
        "target_dir = './model/'\n",
        "if not os.path.exists(target_dir):\n",
        "  os.mkdir(target_dir)\n",
        "cnn.save('./model/model.h5')"
      ],
      "execution_count": null,
      "outputs": []
    }
  ]
}